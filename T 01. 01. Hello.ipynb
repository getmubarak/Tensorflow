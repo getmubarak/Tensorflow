{
 "cells": [
  {
   "cell_type": "raw",
   "metadata": {},
   "source": [
    "A tensor is a mathematical object and a generalization of scalars, vectors, and matrices. \n",
    "\n",
    "5: This is a rank 0 tensor; this is a scalar with shape [ ].\n",
    "\n",
    "[2.,5., 3.]:  is is a rank 1 tensor; this is a vector with shape [3].\n",
    "\n",
    "[[1., 2., 7.], [3., 5., 4.]]:  is is a rank 2 tensor; it is a matrix with shape [2, 3].\n",
    "\n",
    "[[[1., 2., 3.]], [[7., 8., 9.]]]:  is is a rank 3 tensor with shape [2, 1, 3]."
   ]
  },
  {
   "cell_type": "raw",
   "metadata": {},
   "source": [
    "two phase\n",
    "construction phase - assembles a graph that has nodes (ops/operations) and edges (tensors).\n",
    "execution phase -  uses a session to execute ops (operations) in the graph.\n",
    "\n",
    "Tensorflow library has a default graph to which ops contructors add nodes\n",
    "\n",
    "A session allows you to execute graphs or parts of graphs. It allocates resources (on one or more CPUs or GPUs) for the execution. It holds the actual values of intermediate results and variables."
   ]
  },
  {
   "cell_type": "raw",
   "metadata": {},
   "source": [
    "The core of TensorFlow is in C++, and it has two primary high-level frontend languages and interfaces for expressing and executing the computation graphs. The most developed frontend is in Python, used by most researchers and data scientists. The C++ frontend provides quite a low-level API, useful for efficient execution in embedded systems and other scenarios."
   ]
  },
  {
   "cell_type": "code",
   "execution_count": 1,
   "metadata": {
    "collapsed": false
   },
   "outputs": [
    {
     "name": "stdout",
     "output_type": "stream",
     "text": [
      "outs = 5\n"
     ]
    },
    {
     "name": "stderr",
     "output_type": "stream",
     "text": [
      "/opt/ds/lib/python3.4/importlib/_bootstrap.py:321: FutureWarning: Conversion of the second argument of issubdtype from `float` to `np.floating` is deprecated. In future, it will be treated as `np.float64 == np.dtype(float).type`.\n",
      "  return f(*args, **kwds)\n"
     ]
    }
   ],
   "source": [
    "# Import `tensorflow`\n",
    "import tensorflow as tf\n",
    "\n",
    "a = tf.constant(5)\n",
    "b = tf.constant(2)\n",
    "c = tf.constant(3)\n",
    "\n",
    "d = tf.multiply(a,b)\n",
    "e = tf.add(c,b)\n",
    "f = tf.subtract(d,e)\n",
    "\n",
    "sess = tf.Session()\n",
    "outs = sess.run(f) \n",
    "sess.close()\n",
    "print(\"outs = {}\".format(outs))\n"
   ]
  },
  {
   "cell_type": "raw",
   "metadata": {},
   "source": [
    "The first three nodes are each told to output a constant value.\n",
    "\n",
    "a\n",
    "      \n",
    "     d\n",
    "\n",
    "b          f\n",
    "\n",
    "     e\n",
    "\n",
    "c\n",
    "\n",
    "Each of the next 2 nodes gets two existing variables as inputs, and performs simple arithmetic operations on them\n",
    "Node f subtracts the output of node e from that of node d."
   ]
  },
  {
   "cell_type": "raw",
   "metadata": {},
   "source": [
    "TensorFlow operator\tDescription\n",
    "tf.add\tx+y\n",
    "tf.subtract\tx-y\n",
    "tf.multiply\tx*y\n",
    "tf.div\tx/y\n",
    "tf.mod\tx % y\n",
    "tf.abs\t|x|\n",
    "tf.negative\t-x\n",
    "tf.sign\tsign(x)\n",
    "tf.square\tx*x\n",
    "tf.round\tround(x)\n",
    "tf.sqrt\tsqrt(x)\n",
    "tf.pow\tx^y\n",
    "tf.exp\te^x\n",
    "tf.log\tlog(x)\n",
    "tf.maximum\tmax(x, y)\n",
    "tf.minimum\tmin(x, y)\n",
    "tf.cos\tcos(x)\n",
    "tf.sin\tsin(x)"
   ]
  },
  {
   "cell_type": "code",
   "execution_count": null,
   "metadata": {
    "collapsed": true
   },
   "outputs": [],
   "source": []
  }
 ],
 "metadata": {
  "kernelspec": {
   "display_name": "Python 3",
   "language": "python",
   "name": "python3"
  },
  "language_info": {
   "codemirror_mode": {
    "name": "ipython",
    "version": 3
   },
   "file_extension": ".py",
   "mimetype": "text/x-python",
   "name": "python",
   "nbconvert_exporter": "python",
   "pygments_lexer": "ipython3",
   "version": "3.4.3"
  }
 },
 "nbformat": 4,
 "nbformat_minor": 0
}
