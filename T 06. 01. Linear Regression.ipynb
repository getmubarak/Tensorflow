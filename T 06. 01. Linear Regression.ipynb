{
 "cells": [
  {
   "cell_type": "code",
   "execution_count": 1,
   "metadata": {
    "collapsed": false
   },
   "outputs": [
    {
     "name": "stdout",
     "output_type": "stream",
     "text": [
      "[2.]\n",
      "1.0002818\n",
      "[1005.00055]\n"
     ]
    },
    {
     "name": "stderr",
     "output_type": "stream",
     "text": [
      "/opt/ds/lib/python3.4/importlib/_bootstrap.py:321: FutureWarning: Conversion of the second argument of issubdtype from `float` to `np.floating` is deprecated. In future, it will be treated as `np.float64 == np.dtype(float).type`.\n",
      "  return f(*args, **kwds)\n"
     ]
    }
   ],
   "source": [
    "import tensorflow as tf\n",
    "\n",
    "# Define our linear model.\n",
    "# ... Use some values for our variables.\n",
    "# ... The \"x\" is our input.\n",
    "W = tf.Variable([.5], dtype=tf.float32)\n",
    "b = tf.Variable([-.5], dtype=tf.float32)\n",
    "x = tf.placeholder(tf.float32)\n",
    "linear_model = W * x + b\n",
    "\n",
    "# Define our loss function with standard logic.\n",
    "y = tf.placeholder(tf.float32)\n",
    "squared_deltas = tf.square(linear_model - y)\n",
    "loss = tf.reduce_sum(squared_deltas)\n",
    "\n",
    "# Use an optimizer with our loss function.\n",
    "optimizer = tf.train.GradientDescentOptimizer(0.01)\n",
    "train = optimizer.minimize(loss)\n",
    "\n",
    "# Start a session.\n",
    "sess = tf.Session()\n",
    "sess.run(tf.global_variables_initializer())\n",
    "\n",
    "#model execution before training\n",
    "res = sess.run(linear_model,{x:5})\n",
    "print(res)\n",
    "\n",
    "# Our time and price data.\n",
    "stock_times = [0, 1, 2, 3, 4]\n",
    "stock_prices = [1000, 1001, 1002, 1003, 1004]\n",
    "\n",
    "# Train 1000 times.\n",
    "for _ in range(1000):\n",
    "    sess.run(train, {x: stock_times, y: stock_prices})\n",
    "\n",
    "# Get optimized values for \"W\" and \"b\" with trained model.\n",
    "w,b = sess.run([W, b])\n",
    "print(w[0])\n",
    "\n",
    "#model execution after training\n",
    "res = sess.run(linear_model,{x:5})\n",
    "print(res)\n"
   ]
  },
  {
   "cell_type": "code",
   "execution_count": null,
   "metadata": {
    "collapsed": true
   },
   "outputs": [],
   "source": []
  }
 ],
 "metadata": {
  "kernelspec": {
   "display_name": "Python 3",
   "language": "python",
   "name": "python3"
  },
  "language_info": {
   "codemirror_mode": {
    "name": "ipython",
    "version": 3
   },
   "file_extension": ".py",
   "mimetype": "text/x-python",
   "name": "python",
   "nbconvert_exporter": "python",
   "pygments_lexer": "ipython3",
   "version": "3.4.3"
  }
 },
 "nbformat": 4,
 "nbformat_minor": 0
}
